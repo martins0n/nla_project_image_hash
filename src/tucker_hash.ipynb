{
 "cells": [
  {
   "cell_type": "code",
   "execution_count": 3,
   "metadata": {},
   "outputs": [],
   "source": [
    "import numpy as np\n",
    "from tensorly.decomposition import tucker\n",
    "import tensorly as tl"
   ]
  },
  {
   "cell_type": "code",
   "execution_count": 146,
   "metadata": {},
   "outputs": [],
   "source": [
    "def make_tensor_decomposition(\n",
    "    l_matrix, u_block_size=2,\n",
    "    q_block_size=2,\n",
    "    i_core=2,\n",
    "    j_core=2,\n",
    "    k_core=2\n",
    "):\n",
    "    l_matrix_shape = l_matrix.shape[0]\n",
    "    u_matrix = (\n",
    "        l_matrix\n",
    "            .reshape((l_matrix_shape, l_matrix_shape))\n",
    "            .reshape(\n",
    "                l_matrix_shape // u_block_size,\n",
    "                u_block_size,\n",
    "                l_matrix_shape // u_block_size,\n",
    "                u_block_size\n",
    "            ).mean(axis=(1, 3))\n",
    "    )\n",
    "    n = (l_matrix_shape // u_block_size // q_block_size) ** 2\n",
    "    block_matrix = (\n",
    "        u_matrix\n",
    "            .reshape(\n",
    "                u_matrix.shape[0] // q_block_size,\n",
    "                q_block_size, -1, q_block_size\n",
    "            ).swapaxes(1, 2)\n",
    "            .reshape(-1, q_block_size, q_block_size)\n",
    "    )\n",
    "    x = tl.tensor(block_matrix, dtype=tl.float32)\n",
    "    return tucker(x, ranks=[i_core, j_core, k_core])\n",
    "\n",
    "\n",
    "def make_hash(core, a_factor, b_factor, c_factor):\n",
    "    a_p = a_factor.mean(axis=1)\n",
    "    a_h = (a_p >= a_p.mean()).astype(int)\n",
    "    b_p = b_factor.mean(axis=1)\n",
    "    b_h = (b_p >= b_p.mean()).astype(int)\n",
    "    c_p = c_factor.mean(axis=1)\n",
    "    c_h = (c_p >= c_p.mean()).astype(int)\n",
    "    \n",
    "    return np.hstack((a_h, b_h, c_h))\n",
    "    \n",
    "    "
   ]
  },
  {
   "cell_type": "code",
   "execution_count": 176,
   "metadata": {},
   "outputs": [],
   "source": [
    "sh = 256\n",
    "a = make_tensor(\n",
    "    np.random.normal(20, size=(sh,sh)),\n",
    "    q_block_size=32\n",
    ")"
   ]
  },
  {
   "cell_type": "code",
   "execution_count": 175,
   "metadata": {},
   "outputs": [
    {
     "data": {
      "text/plain": [
       "array([0, 1, 1, 1, 0, 0, 1, 1, 0, 0, 1, 0, 1, 1, 0, 0, 1, 0, 0, 1, 0, 1,\n",
       "       1, 1, 1, 0, 1, 1, 0, 1, 1, 0, 0, 1, 1, 1, 0, 0, 0, 1, 1, 0, 1, 0,\n",
       "       1, 0, 0, 1, 1, 0, 1, 0, 0, 0, 1, 0, 1, 0, 1, 1, 1, 1, 1, 1, 1, 1,\n",
       "       0, 1, 0, 0, 0, 0, 0, 0, 0, 0, 0, 0, 0, 0])"
      ]
     },
     "execution_count": 175,
     "metadata": {},
     "output_type": "execute_result"
    }
   ],
   "source": [
    "make_hash(a[0], *a[1])"
   ]
  }
 ],
 "metadata": {
  "kernelspec": {
   "display_name": "Python 3",
   "language": "python",
   "name": "python3"
  },
  "language_info": {
   "codemirror_mode": {
    "name": "ipython",
    "version": 3
   },
   "file_extension": ".py",
   "mimetype": "text/x-python",
   "name": "python",
   "nbconvert_exporter": "python",
   "pygments_lexer": "ipython3",
   "version": "3.6.9"
  }
 },
 "nbformat": 4,
 "nbformat_minor": 2
}
